{
 "cells": [
  {
   "cell_type": "code",
   "execution_count": 451,
   "metadata": {},
   "outputs": [],
   "source": [
    "import pickle\n",
    "import random\n",
    "import sklearn\n",
    "import matplotlib.pyplot as plt\n",
    "import numpy as np\n",
    "from sklearn import datasets, linear_model\n",
    "\n"
   ]
  },
  {
   "cell_type": "code",
   "execution_count": 452,
   "metadata": {},
   "outputs": [
    {
     "data": {
      "image/png": "[encoded data removed]",
      "text/plain": [
       "<Figure size 432x288 with 1 Axes>"
      ]
     },
     "metadata": {
      "needs_background": "light"
     },
     "output_type": "display_data"
    }
   ],
   "source": [
    "f = open(\"data.pkl\", \"rb\")\n",
    "raw = pickle.load(f)\n",
    "plt.plot(raw[:,0], raw[:,1])\n",
    "np.random.shuffle(raw)\n",
    "\n"
   ]
  },
  {
   "cell_type": "code",
   "execution_count": 453,
   "metadata": {},
   "outputs": [
    {
     "name": "stdout",
     "output_type": "stream",
     "text": [
      "[[2.155      7.03668554]\n",
      " [0.716      4.9425075 ]\n",
      " [0.598      2.48982902]\n",
      " [1.112      0.63326429]\n",
      " [1.313      4.18024435]]\n"
     ]
    }
   ],
   "source": [
    "training_size = len(raw) // 10 * 9\n",
    "training_set = raw[:training_size]\n",
    "print(training_set[:5])\n"
   ]
  },
  {
   "cell_type": "code",
   "execution_count": 454,
   "metadata": {},
   "outputs": [
    {
     "name": "stdout",
     "output_type": "stream",
     "text": [
      "[[ 3.86       -6.83782322]\n",
      " [ 3.862      -6.83890145]\n",
      " [ 3.174       2.30889806]\n",
      " [ 0.711       4.86827063]\n",
      " [ 2.117       7.58081446]]\n"
     ]
    }
   ],
   "source": [
    "test_set = raw[training_size:]\n",
    "print(test_set[:5])"
   ]
  },
  {
   "cell_type": "code",
   "execution_count": 455,
   "metadata": {},
   "outputs": [],
   "source": [
    "assert(len(training_set) + len(test_set) == len(raw))"
   ]
  },
  {
   "cell_type": "code",
   "execution_count": 456,
   "metadata": {},
   "outputs": [
    {
     "name": "stdout",
     "output_type": "stream",
     "text": [
      "[[2.155      7.03668554]\n",
      " [0.716      4.9425075 ]\n",
      " [0.598      2.48982902]\n",
      " [1.112      0.63326429]\n",
      " [1.313      4.18024435]]\n"
     ]
    }
   ],
   "source": [
    "partition_size = len(training_set) // 10\n",
    "print(training_set[:5])"
   ]
  },
  {
   "cell_type": "code",
   "execution_count": 457,
   "metadata": {},
   "outputs": [],
   "source": [
    "# for l in range(1, 10):\n",
    "#     for i in range(10):\n",
    "#         x = []\n",
    "#         y = []\n",
    "#         for j in range(len(samplingData[i])):\n",
    "#             xList = []\n",
    "\n",
    "#             for m in range(1, l + 1):\n",
    "#                 xList.append(samplingData[i][j][0] ** m)\n",
    "#             x.append(xList)\n",
    "\n",
    "#             y.append(samplingData[i][j][1])\n",
    "#         regrModel = linear_model.LinearRegression()\n",
    "\n",
    "#         regrModel.fit(x, y)\n",
    "#         xTest = []\n",
    "#         xTestPlot = []\n",
    "#         yTest = []\n",
    "#         for k in range(len(testData)):\n",
    "#             xTestList = []\n",
    "#             xTestPlot.append(testData[k][0])\n",
    "#             for m in range(1, l + 1):\n",
    "#                 xTestList.append(testData[k][0] ** m)\n",
    "#             xTest.append(xTestList)\n",
    "#             yTest.append(testData[k][1])\n",
    "#             yPred = regrModel.predict(xTest)\n",
    "#             yTrain = regrModel.predict(x)\n",
    "\n",
    "#         plt.scatter(xTestPlot, yTest)\n",
    "#         plt.plot(xTestPlot, yPred)\n",
    "#         plt.show()"
   ]
  },
  {
   "cell_type": "code",
   "execution_count": 458,
   "metadata": {},
   "outputs": [
    {
     "name": "stdout",
     "output_type": "stream",
     "text": [
      "degree 1 bias = 32.03840093062065\n",
      "degree 2 bias = 6.3585554449465\n",
      "degree 3 bias = 5.341266494967773\n",
      "degree 4 bias = 3.4222223398743155\n",
      "degree 5 bias = 3.1928859665580522\n",
      "degree 6 bias = 2.6992517337316766\n",
      "degree 7 bias = 2.440525790056373\n",
      "degree 8 bias = 2.4126535624147247\n",
      "degree 9 bias = 2.429315619965657\n"
     ]
    },
    {
     "data": {
      "text/plain": [
       "[<matplotlib.lines.Line2D at 0x141872e50>]"
      ]
     },
     "execution_count": 458,
     "metadata": {},
     "output_type": "execute_result"
    },
    {
     "data": {
      "image/png": "[encoded data removed]",
      "text/plain": [
       "<Figure size 432x288 with 1 Axes>"
      ]
     },
     "metadata": {
      "needs_background": "light"
     },
     "output_type": "display_data"
    }
   ],
   "source": [
    "test_xs = test_set[:, :1]\n",
    "test_ys = test_set[:, 1]\n",
    "\n",
    "degree_vs_bias = np.zeros(shape=(9,2))\n",
    "\n",
    "for degree in range(1,10):\n",
    "\n",
    "    test_poly_xs = np.zeros(shape=(test_set.shape[0], degree))\n",
    "    for row in range(test_set.shape[0]):\n",
    "        test_poly_xs[row] = np.concatenate(\n",
    "            list(test_xs[row] ** i for i in range(1, degree + 1))\n",
    "        )\n",
    "\n",
    "    predicted = np.zeros(shape=(test_set.shape[0], 10))\n",
    "\n",
    "    for set_idx in range(10):\n",
    "        lo = set_idx * partition_size\n",
    "        hi = (set_idx + 1) * partition_size\n",
    "\n",
    "        cur_training = training_set[lo:hi]\n",
    "        train_xs = cur_training[:, :1]\n",
    "        train_ys = cur_training[:, 1]\n",
    "        poly = np.zeros(shape=(cur_training.shape[0], degree))\n",
    "        for row in range(cur_training.shape[0]):\n",
    "            np.concatenate(\n",
    "                list(train_xs[row] ** i for i in range(1, degree + 1)), out=poly[row]\n",
    "            )\n",
    "\n",
    "        model = linear_model.LinearRegression()\n",
    "\n",
    "        model.fit(poly, train_ys)\n",
    "\n",
    "        predicted[:, set_idx] = model.predict(test_poly_xs)\n",
    "\n",
    "    expected_val = np.sum(predicted, axis=1) / 10\n",
    "    assert expected_val.shape == test_ys.shape\n",
    "    degree_vs_bias[degree - 1,0] = (\n",
    "        np.sum((expected_val - test_ys) ** 2) / expected_val.shape\n",
    "    )\n",
    "\n",
    "    print(\"degree {} bias = {}\".format(degree, degree_vs_bias[degree - 1][0]))\n",
    "\n",
    "    \n",
    "#     print(predicted[1], expected_val[1])\n",
    "    variance = np.sum((predicted - np.repeat(expected_val.reshape(500,1), 10, axis=1)) ** 2, axis=1) / 10\n",
    "#     print(\"diff\", np.sum((predicted - np.repeat(expected_val.reshape(500,1), 10, axis=1)) ** 2, axis=1) / 10)\n",
    "#     print(variance.shape)\n",
    "    variance = np.sum(variance) / test_set.shape[0]\n",
    "#     print(variance)\n",
    "    degree_vs_bias[degree - 1, 1] = variance\n",
    "   \n",
    "\n",
    "\n",
    "plt.plot(list(range(1, 10)), degree_vs_bias[:,0])"
   ]
  },
  {
   "cell_type": "code",
   "execution_count": 459,
   "metadata": {},
   "outputs": [
    {
     "data": {
      "text/plain": [
       "[<matplotlib.lines.Line2D at 0x14192da10>]"
      ]
     },
     "execution_count": 459,
     "metadata": {},
     "output_type": "execute_result"
    },
    {
     "data": {
      "image/png": "[encoded data removed]",
      "text/plain": [
       "<Figure size 432x288 with 1 Axes>"
      ]
     },
     "metadata": {
      "needs_background": "light"
     },
     "output_type": "display_data"
    }
   ],
   "source": [
    "plt.plot(list(range(1,10)), degree_vs_bias[:,1])"
   ]
  },
  {
   "cell_type": "code",
   "execution_count": null,
   "metadata": {},
   "outputs": [],
   "source": []
  },
  {
   "cell_type": "code",
   "execution_count": null,
   "metadata": {},
   "outputs": [],
   "source": []
  }
 ],
 "metadata": {
  "kernelspec": {
   "display_name": "python3 (mdl)",
   "language": "python",
   "name": "mdl"
  },
  "language_info": {
   "codemirror_mode": {
    "name": "ipython",
    "version": 3
   },
   "file_extension": ".py",
   "mimetype": "text/x-python",
   "name": "python",
   "nbconvert_exporter": "python",
   "pygments_lexer": "ipython3",
   "version": "3.7.6"
  }
 },
 "nbformat": 4,
 "nbformat_minor": 2
}
