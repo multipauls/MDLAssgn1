{
 "cells": [
  {
   "cell_type": "code",
   "execution_count": 477,
   "metadata": {},
   "outputs": [],
   "source": [
    "import pickle\n",
    "import random\n",
    "import sklearn\n",
    "import matplotlib.pyplot as plt\n",
    "import numpy as np\n",
    "from sklearn import datasets, linear_model\n",
    "\n",
    "MAX_POLY = 30"
   ]
  },
  {
   "cell_type": "code",
   "execution_count": 478,
   "metadata": {},
   "outputs": [
    {
     "data": {
      "image/png": "[encoded data removed]",
      "text/plain": [
       "<Figure size 432x288 with 1 Axes>"
      ]
     },
     "metadata": {
      "needs_background": "light"
     },
     "output_type": "display_data"
    }
   ],
   "source": [
    "f = open(\"data.pkl\", \"rb\")\n",
    "raw = pickle.load(f)\n",
    "plt.plot(raw[:,0], raw[:,1])\n",
    "np.random.shuffle(raw)\n",
    "\n"
   ]
  },
  {
   "cell_type": "code",
   "execution_count": 479,
   "metadata": {},
   "outputs": [
    {
     "name": "stdout",
     "output_type": "stream",
     "text": [
      "[[ 2.803       6.01600139]\n",
      " [ 0.799       5.41394479]\n",
      " [ 3.768      -7.32007114]\n",
      " [ 0.95        2.84873793]\n",
      " [ 3.568      -6.29592127]]\n"
     ]
    }
   ],
   "source": [
    "training_size = len(raw) // 10 * 9\n",
    "training_set = raw[:training_size]\n",
    "print(training_set[:5])\n"
   ]
  },
  {
   "cell_type": "code",
   "execution_count": 480,
   "metadata": {},
   "outputs": [
    {
     "name": "stdout",
     "output_type": "stream",
     "text": [
      "[[  1.446        5.32510676]\n",
      " [  4.693      -18.57864283]\n",
      " [  1.738        1.81348604]\n",
      " [  4.747      -20.30615403]\n",
      " [  2.097        7.77157195]]\n"
     ]
    }
   ],
   "source": [
    "test_set = raw[training_size:]\n",
    "print(test_set[:5])"
   ]
  },
  {
   "cell_type": "code",
   "execution_count": 481,
   "metadata": {},
   "outputs": [],
   "source": [
    "assert(len(training_set) + len(test_set) == len(raw))"
   ]
  },
  {
   "cell_type": "code",
   "execution_count": 482,
   "metadata": {},
   "outputs": [
    {
     "name": "stdout",
     "output_type": "stream",
     "text": [
      "[[ 2.803       6.01600139]\n",
      " [ 0.799       5.41394479]\n",
      " [ 3.768      -7.32007114]\n",
      " [ 0.95        2.84873793]\n",
      " [ 3.568      -6.29592127]]\n"
     ]
    }
   ],
   "source": [
    "partition_size = len(training_set) // 10\n",
    "print(training_set[:5])"
   ]
  },
  {
   "cell_type": "code",
   "execution_count": 483,
   "metadata": {},
   "outputs": [],
   "source": [
    "# for l in range(1, 10):\n",
    "#     for i in range(10):\n",
    "#         x = []\n",
    "#         y = []\n",
    "#         for j in range(len(samplingData[i])):\n",
    "#             xList = []\n",
    "\n",
    "#             for m in range(1, l + 1):\n",
    "#                 xList.append(samplingData[i][j][0] ** m)\n",
    "#             x.append(xList)\n",
    "\n",
    "#             y.append(samplingData[i][j][1])\n",
    "#         regrModel = linear_model.LinearRegression()\n",
    "\n",
    "#         regrModel.fit(x, y)\n",
    "#         xTest = []\n",
    "#         xTestPlot = []\n",
    "#         yTest = []\n",
    "#         for k in range(len(testData)):\n",
    "#             xTestList = []\n",
    "#             xTestPlot.append(testData[k][0])\n",
    "#             for m in range(1, l + 1):\n",
    "#                 xTestList.append(testData[k][0] ** m)\n",
    "#             xTest.append(xTestList)\n",
    "#             yTest.append(testData[k][1])\n",
    "#             yPred = regrModel.predict(xTest)\n",
    "#             yTrain = regrModel.predict(x)\n",
    "\n",
    "#         plt.scatter(xTestPlot, yTest)\n",
    "#         plt.plot(xTestPlot, yPred)\n",
    "#         plt.show()"
   ]
  },
  {
   "cell_type": "code",
   "execution_count": 484,
   "metadata": {},
   "outputs": [
    {
     "name": "stdout",
     "output_type": "stream",
     "text": [
      "degree 1 bias = 32.02885357545177\n",
      "degree 2 bias = 6.717128574378482\n",
      "degree 3 bias = 5.638207992471804\n",
      "degree 4 bias = 3.3040172538861707\n",
      "degree 5 bias = 3.1349191138297603\n",
      "degree 6 bias = 2.5596665534034218\n",
      "degree 7 bias = 2.4216912907908426\n",
      "degree 8 bias = 2.3858372961636123\n",
      "degree 9 bias = 2.3779721473514686\n",
      "degree 10 bias = 2.354246839398108\n",
      "degree 11 bias = 2.2706395560739967\n",
      "degree 12 bias = 2.2714165847121697\n",
      "degree 13 bias = 2.0177480469483893\n",
      "degree 14 bias = 2.012332919847229\n",
      "degree 15 bias = 2.0050618801533924\n",
      "degree 16 bias = 1.996811375530467\n",
      "degree 17 bias = 1.7487576797858537\n",
      "degree 18 bias = 1.7453672623404057\n",
      "degree 19 bias = 1.7520799131451872\n",
      "degree 20 bias = 1.7477737715812103\n",
      "degree 21 bias = 1.1261586726944426\n",
      "degree 22 bias = 1.1178132802380187\n",
      "degree 23 bias = 1.1302111086341333\n",
      "degree 24 bias = 0.9930864333385403\n",
      "degree 25 bias = 0.8606641111724604\n",
      "degree 26 bias = 0.5038758065355566\n",
      "degree 27 bias = 0.5874004390650591\n",
      "degree 28 bias = 0.6449720082068118\n",
      "degree 29 bias = 0.2967792090523058\n",
      "degree 30 bias = 0.14248351918927665\n"
     ]
    },
    {
     "data": {
      "text/plain": [
       "[<matplotlib.lines.Line2D at 0x141d362d0>]"
      ]
     },
     "execution_count": 484,
     "metadata": {},
     "output_type": "execute_result"
    },
    {
     "data": {
      "image/png": "[encoded data removed]",
      "text/plain": [
       "<Figure size 432x288 with 1 Axes>"
      ]
     },
     "metadata": {
      "needs_background": "light"
     },
     "output_type": "display_data"
    }
   ],
   "source": [
    "test_xs = test_set[:, :1]\n",
    "test_ys = test_set[:, 1]\n",
    "\n",
    "degree_vs_bias = np.zeros(shape=(MAX_POLY,2))\n",
    "\n",
    "for degree in range(1,MAX_POLY + 1):\n",
    "\n",
    "    test_poly_xs = np.zeros(shape=(test_set.shape[0], degree))\n",
    "    for row in range(test_set.shape[0]):\n",
    "        test_poly_xs[row] = np.concatenate(\n",
    "            list(test_xs[row] ** i for i in range(1, degree + 1))\n",
    "        )\n",
    "\n",
    "    predicted = np.zeros(shape=(test_set.shape[0], 10))\n",
    "\n",
    "    for set_idx in range(10):\n",
    "        lo = set_idx * partition_size\n",
    "        hi = (set_idx + 1) * partition_size\n",
    "\n",
    "        cur_training = training_set[lo:hi]\n",
    "        train_xs = cur_training[:, :1]\n",
    "        train_ys = cur_training[:, 1]\n",
    "        poly = np.zeros(shape=(cur_training.shape[0], degree))\n",
    "        for row in range(cur_training.shape[0]):\n",
    "            np.concatenate(\n",
    "                list(train_xs[row] ** i for i in range(1, degree + 1)), out=poly[row]\n",
    "            )\n",
    "\n",
    "        model = linear_model.LinearRegression(normalize=True)\n",
    "\n",
    "        model.fit(poly, train_ys)\n",
    "\n",
    "        predicted[:, set_idx] = model.predict(test_poly_xs)\n",
    "\n",
    "    expected_val = np.sum(predicted, axis=1) / 10\n",
    "    assert expected_val.shape == test_ys.shape\n",
    "    degree_vs_bias[degree - 1,0] = (\n",
    "        np.sum((expected_val - test_ys) ** 2) / expected_val.shape\n",
    "    )\n",
    "\n",
    "    print(\"degree {} bias = {}\".format(degree, degree_vs_bias[degree - 1][0]))\n",
    "\n",
    "    \n",
    "#     print(predicted[1], expected_val[1])\n",
    "    variance = np.sum((predicted - np.repeat(expected_val.reshape(500,1), 10, axis=1)) ** 2, axis=1) / 10\n",
    "#     print(\"diff\", np.sum((predicted - np.repeat(expected_val.reshape(500,1), 10, axis=1)) ** 2, axis=1) / 10)\n",
    "#     print(variance.shape)\n",
    "    variance = np.sum(variance) / test_set.shape[0]\n",
    "#     print(variance)\n",
    "    degree_vs_bias[degree - 1, 1] = variance\n",
    "   \n",
    "\n",
    "\n",
    "plt.plot(list(range(1, MAX_POLY + 1)), degree_vs_bias[:,0])"
   ]
  },
  {
   "cell_type": "code",
   "execution_count": 485,
   "metadata": {},
   "outputs": [
    {
     "data": {
      "text/plain": [
       "[<matplotlib.lines.Line2D at 0x141d88750>]"
      ]
     },
     "execution_count": 485,
     "metadata": {},
     "output_type": "execute_result"
    },
    {
     "data": {
      "image/png": "[encoded data removed]",
      "text/plain": [
       "<Figure size 432x288 with 1 Axes>"
      ]
     },
     "metadata": {
      "needs_background": "light"
     },
     "output_type": "display_data"
    }
   ],
   "source": [
    "plt.plot(list(range(1,MAX_POLY + 1)), degree_vs_bias[:,1])"
   ]
  },
  {
   "cell_type": "code",
   "execution_count": null,
   "metadata": {},
   "outputs": [],
   "source": []
  },
  {
   "cell_type": "code",
   "execution_count": null,
   "metadata": {},
   "outputs": [],
   "source": []
  }
 ],
 "metadata": {
  "kernelspec": {
   "display_name": "Python 3",
   "language": "python",
   "name": "python3"
  },
  "language_info": {
   "codemirror_mode": {
    "name": "ipython",
    "version": 3
   },
   "file_extension": ".py",
   "mimetype": "text/x-python",
   "name": "python",
   "nbconvert_exporter": "python",
   "pygments_lexer": "ipython3",
   "version": "3.6.8"
  }
 },
 "nbformat": 4,
 "nbformat_minor": 2
}
