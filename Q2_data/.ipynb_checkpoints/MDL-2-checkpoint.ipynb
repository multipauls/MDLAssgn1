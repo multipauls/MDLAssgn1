{
 "cells": [
  {
   "cell_type": "code",
   "execution_count": 1,
   "metadata": {},
   "outputs": [],
   "source": [
    "import pickle\n",
    "import random\n",
    "import sklearn\n",
    "import matplotlib.pyplot as plt\n",
    "import numpy as np\n",
    "from sklearn import datasets, linear_model\n",
    "from sklearn.preprocessing import PolynomialFeatures\n",
    "\n",
    "MAX_POLY = 9\n",
    "PARTITION_COUNT = 20\n",
    "PARTITION_SIZE = 400"
   ]
  },
  {
   "cell_type": "code",
   "execution_count": 17,
   "metadata": {},
   "outputs": [
    {
     "name": "stdout",
     "output_type": "stream",
     "text": [
      "(80, 1) (80,) (20, 400, 1) (20, 400)\n"
     ]
    }
   ],
   "source": [
    "with open(\"Fx_test.pkl\", \"rb\") as f, open(\"X_test.pkl\", \"rb\") as g:\n",
    "    y_test = pickle.load(f)\n",
    "    x_test = pickle.load(g)\n",
    "    \n",
    "with open(\"X_train.pkl\", \"rb\") as f, open(\"Y_train.pkl\", \"rb\") as g:\n",
    "    XTrain = pickle.load(f)\n",
    "    y_train = pickle.load(g)\n",
    "\n",
    "x_test = x_test.reshape((x_test.shape[0], 1))\n",
    "x_train = XTrain.reshape(20, 400, 1)\n",
    "\n",
    "print(x_test.shape, y_test.shape, x_train.shape, y_train.shape)\n",
    "\n"
   ]
  },
  {
   "cell_type": "code",
   "execution_count": 4,
   "metadata": {
    "scrolled": true
   },
   "outputs": [],
   "source": [
    "train = np.ndarray(shape=(XTrain.shape[0], XTrain.shape[1], 2))\n",
    "train[:,:,0] = XTrain\n",
    "train[:,:,1] = y_train\n",
    "\n",
    "test_set = np.ndarray(shape=(x_test.shape[0], 2))\n",
    "test_set[:, 0] = x_test.reshape(80,)\n",
    "test_set[:, 1] = y_test"
   ]
  },
  {
   "cell_type": "code",
   "execution_count": null,
   "metadata": {},
   "outputs": [],
   "source": [
    "# testXData = []\n",
    "# for i in range(len(XTest)):\n",
    "#     testXData.append([XTest[i]])\n",
    "# x = []\n",
    "# y = []\n",
    "\n",
    "# trainXData = []\n",
    "\n",
    "# for i in range(len(XTrain[0])):\n",
    "#     trainXData.append([XTrain[0][i]])\n",
    "# poly = sklearn.preprocessing.PolynomialFeatures(9)\n",
    "# x = poly.fit_transform(trainXData)\n",
    "# y = YTrain[0]\n",
    "\n",
    "# regrModel = linear_model.LinearRegression()\n",
    "\n",
    "# regrModel.fit(x, y)\n",
    "# for k in range(80):\n",
    "#     YPred = regrModel.predict(testXData)\n",
    "#     YTrain = regrModel.predict(XTrain)\n",
    "\n",
    "# # plt.scatter(XTest, YTest)\n",
    "# plt.plot(XTest, YPred)\n",
    "# plt.show()"
   ]
  },
  {
   "cell_type": "code",
   "execution_count": 21,
   "metadata": {},
   "outputs": [
    {
     "name": "stdout",
     "output_type": "stream",
     "text": [
      "(80, 1) (80,)\n",
      "1 & 3996913.587487695 & 70545.48914575046 \\\\ \n",
      "2 & 3818477.0951777 & 125870.85554877334 \\\\ \n",
      "3 & 37558.9204671648 & 150073.7395464768 \\\\ \n",
      "4 & 43629.39253628525 & 212235.70832526154 \\\\ \n",
      "5 & 37356.777165304076 & 276388.48025474057 \\\\ \n",
      "6 & 40994.34376459151 & 316863.49843748985 \\\\ \n",
      "7 & 41341.10344659638 & 357510.98475735466 \\\\ \n",
      "8 & 40597.676975749106 & 404286.670685786 \\\\ \n",
      "9 & 43261.94814629698 & 459132.37837248633 \\\\ \n"
     ]
    }
   ],
   "source": [
    "test_xs = test_set[:, :1]\n",
    "test_ys = test_set[:, 1]\n",
    "\n",
    "print(test_xs.shape, test_ys.shape)\n",
    "\n",
    "degree_vs_bias = np.zeros(shape=(MAX_POLY,2))\n",
    "\n",
    "for degree in range(1, 10):\n",
    "\n",
    "    polyfeat = PolynomialFeatures(degree)\n",
    "    test_poly_xs = polyfeat.fit_transform(test_xs)\n",
    "    predicted = np.zeros(shape=(80, PARTITION_COUNT))\n",
    "\n",
    "    for set_idx in range(PARTITION_COUNT):\n",
    "\n",
    "        train_xs = x_train[set_idx]\n",
    "        train_ys = y_train[set_idx]\n",
    "        \n",
    "        polyfeat = PolynomialFeatures(degree)\n",
    "        poly = polyfeat.fit_transform(train_xs)\n",
    "        model = linear_model.LinearRegression()\n",
    "        \n",
    "        model.fit(poly, train_ys)\n",
    "        \n",
    "        predicted[:, set_idx] = model.predict(test_poly_xs)\n",
    "        \n",
    "            \n",
    "    expected_val = np.sum(predicted, axis=1) / 20\n",
    "    \n",
    "#     print(\"expected\", expected_val[:5])\n",
    "   \n",
    "    degree_vs_bias[degree - 1,0] = (\n",
    "        np.sum((expected_val - test_ys) ** 2) / 20\n",
    "    )\n",
    "    \n",
    "\n",
    "\n",
    "    \n",
    "\n",
    "    variance = np.sum((predicted - np.repeat(expected_val.reshape(80,1), 20, axis=1)) ** 2, axis=1) / 20\n",
    "    variance = np.sum(variance) / test_set.shape[0]\n",
    "    \n",
    "    degree_vs_bias[degree - 1, 1] = variance\n",
    "   \n",
    "    print(\"{} & {} & {} \\\\\\ \".format(degree, degree_vs_bias[degree - 1][0], degree_vs_bias[degree - 1][1]))\n",
    "\n"
   ]
  },
  {
   "cell_type": "code",
   "execution_count": 15,
   "metadata": {},
   "outputs": [
    {
     "data": {
      "image/png": "[encoded data removed]",
      "text/plain": [
       "<Figure size 432x288 with 2 Axes>"
      ]
     },
     "metadata": {
      "needs_background": "light"
     },
     "output_type": "display_data"
    }
   ],
   "source": [
    "fig, ax1 = plt.subplots()\n",
    "color = 'tab:red'\n",
    "ax1.plot(list(range(3, MAX_POLY + 1)), degree_vs_bias[2:,0], color=color)\n",
    "ax1.plot(list(range(3, MAX_POLY + 1)), degree_vs_bias[2:,0], color=color, label='Bias')\n",
    "color = 'tab:blue'\n",
    "ax2 = ax1.twinx()\n",
    "ax2.plot(list(range(3,MAX_POLY + 1)), degree_vs_bias[2:,1], color=color)\n",
    "ax2.plot(list(range(3,MAX_POLY + 1)), degree_vs_bias[2:,1], color=color, label='Variance')\n",
    "fig.tight_layout()\n",
    "fig.legend()\n",
    "plt.show()"
   ]
  },
  {
   "cell_type": "code",
   "execution_count": null,
   "metadata": {},
   "outputs": [],
   "source": []
  }
 ],
 "metadata": {
  "kernelspec": {
   "display_name": "Python 3",
   "language": "python",
   "name": "python3"
  },
  "language_info": {
   "codemirror_mode": {
    "name": "ipython",
    "version": 3
   },
   "file_extension": ".py",
   "mimetype": "text/x-python",
   "name": "python",
   "nbconvert_exporter": "python",
   "pygments_lexer": "ipython3",
   "version": "3.6.8"
  }
 },
 "nbformat": 4,
 "nbformat_minor": 4
}
